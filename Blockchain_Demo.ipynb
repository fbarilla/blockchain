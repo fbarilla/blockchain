{
 "cells": [
  {
   "cell_type": "markdown",
   "metadata": {},
   "source": [
    "# Protect Digital Asset (Tensorflow model) using Blockchain"
   ]
  },
  {
   "cell_type": "markdown",
   "metadata": {},
   "source": [
    "## Introduction\n",
    "The Confidential Assets feature of Elements blockchain platform allows competing parties to interact within the same blockchain without revealing crucial information to each other, such as the asset identities and quantities transferred. \n",
    "\n",
    "This simple demonstration shows a scenario where a Deep Learning Model provider charges a customer for a TensorFlow model. "
   ]
  },
  {
   "cell_type": "markdown",
   "metadata": {},
   "source": [
    "## Prerequisites/Installation\n",
    "The demo uses the following libraries/tools:\n",
    "\n",
    "**Elements blockchain platform:**https://github.com/ElementsProject/elements<br>\n",
    "**Go:**https://golang.org/<br>\n",
    "**jq:**https://stedolan.github.io/jq/<br>\n",
    "\n",
    "On an **IBM Power 8** system the following packages have been installed:\n",
    "\n",
    "apt-get update\n",
    "apt-get -y install libtool curl git golang jq autoconf libboost-system-dev libboost-filesystem-dev<br> \n",
    "apt-get -y install npm libdb++-dev libboost-chrono-dev libboost-program-options-dev  \n",
    "apt-get -y install bsdmainutils libboost-test-dev libboost-thread-dev libevent-dev \n",
    "apt-get -y install libqt5gui5 libqt5core5a libqt5dbus5 qttools5-dev qttools5-dev-tools libprotobuf-dev protobuf-compiler  \n",
    "npm install -g node-gyp-install\n",
    "\n",
    "Install **Elements blockchain platform:**\n",
    "\n",
    "git clone https://github.com/ElementsProject/elements.git<br>\n",
    "cd ~/elements<br>\n",
    "./autogen.sh<br>\n",
    "./configure --enable-cxx --disable-shared --with-pic --prefix=/root/frb/elements --with-incompatible-bdb<br>\n",
    "make <br>\n",
    "make install<br>\n",
    "\n",
    "Install **Blockchain Demo**\n",
    "\n",
    "cd ~\n",
    "git clone https://github.com/fbarilla/blockchain.git\n",
    "\n"
   ]
  },
  {
   "cell_type": "markdown",
   "metadata": {},
   "source": [
    "## Building the demo\n",
    "The demo is written in Go with some HTML/JS components for UI related stuff.\n",
    "\n",
    "There are five nodes, one for each party mentioned above, as well as several assets that must be generated and given to the appropriate party before the demo will function.\n",
    "\n",
    "The demo must be built. It's done by using the **build.sh** script."
   ]
  },
  {
   "cell_type": "code",
   "execution_count": 17,
   "metadata": {},
   "outputs": [
    {
     "name": "stdout",
     "output_type": "stream",
     "text": [
      "===== build start =====\n",
      "GOPATH=/root/frb/blockchain-demo\n",
      "cp /root/frb/blockchain-demo/src/democonf/democonf.json demo\n",
      "===== building ====\n",
      ".....\n",
      "===== buid end ====\n",
      "===== Demo successfully built ====\n"
     ]
    }
   ],
   "source": [
    "! ./build.sh"
   ]
  },
  {
   "cell_type": "markdown",
   "metadata": {},
   "source": [
    "## Start the demo\n",
    "**start_demo.sh** essentially does the following:\n",
    "\n",
    "Sets up 5 Elements blockchain platform nodes and connects them to each other.<br>\n",
    "Generates the appropriate assets.<br>\n",
    "Sends assets to the appropriate parties.<br>\n",
    "Starts up the appropriate demo-specific daemons.<br>"
   ]
  },
  {
   "cell_type": "markdown",
   "metadata": {},
   "source": [
    "## Conclusion"
   ]
  },
  {
   "cell_type": "code",
   "execution_count": null,
   "metadata": {
    "collapsed": true
   },
   "outputs": [],
   "source": []
  }
 ],
 "metadata": {
  "celltoolbar": "Slideshow",
  "kernelspec": {
   "display_name": "Python 2",
   "language": "python",
   "name": "python2"
  },
  "language_info": {
   "codemirror_mode": {
    "name": "ipython",
    "version": 2
   },
   "file_extension": ".py",
   "mimetype": "text/x-python",
   "name": "python",
   "nbconvert_exporter": "python",
   "pygments_lexer": "ipython2",
   "version": "2.7.12"
  }
 },
 "nbformat": 4,
 "nbformat_minor": 1
}
